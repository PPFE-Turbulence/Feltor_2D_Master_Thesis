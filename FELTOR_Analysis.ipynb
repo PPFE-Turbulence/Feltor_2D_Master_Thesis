{
 "cells": [
  {
   "cell_type": "code",
   "execution_count": 1,
   "metadata": {},
   "outputs": [],
   "source": [
    "from netCDF4 import Dataset\n",
    "from scipy.io          import netcdf\n",
    "from scipy.integrate   import simps\n",
    "\n",
    "import numpy as np\n",
    "import json\n",
    "import h5py\n",
    "import matplotlib.pyplot as plt\n",
    "from boutdata import collect\n",
    "\n",
    "from Analysis import Analyse\n",
    "from matplotlib.pyplot import imshow, show, plot"
   ]
  },
  {
   "cell_type": "code",
   "execution_count": 2,
   "metadata": {},
   "outputs": [
    {
     "data": {
      "text/plain": [
       "array([314.15967677, 314.15967412, 314.15966925, 314.15966215,\n",
       "       314.15965281, 314.15964119, 314.15962728, 314.15961106,\n",
       "       314.15959252])"
      ]
     },
     "execution_count": 2,
     "metadata": {},
     "output_type": "execute_result"
    }
   ],
   "source": [
    "Anal = Analyse('../FELTOR-model/output.nc')\n",
    "Anal.integrate('ions')"
   ]
  },
  {
   "cell_type": "code",
   "execution_count": 3,
   "metadata": {},
   "outputs": [
    {
     "data": {
      "text/plain": [
       "<class 'netCDF4._netCDF4.Dataset'>\n",
       "root group (NETCDF4 data model, file format HDF5):\n",
       "    inputfile: {\n",
       "   \"Nx\" : 120,\n",
       "   \"Nx_out\" : 60,\n",
       "   \"Ny\" : 120,\n",
       "   \"Ny_out\" : 60,\n",
       "   \"amplitude\" : 0.5,\n",
       "   \"bc_x\" : \"DIR\",\n",
       "   \"bc_y\" : \"DIR\",\n",
       "   \"cols\" : 2,\n",
       "   \"curvature\" : 0.014999999999999999,\n",
       "   \"dt\" : 0.01,\n",
       "   \"eps_pol\" : 9.9999999999999995e-07,\n",
       "   \"eps_time\" : 1e-10,\n",
       "   \"height\" : 500,\n",
       "   \"itstp\" : 10,\n",
       "   \"lx\" : 200,\n",
       "   \"ly\" : 200,\n",
       "   \"maxout\" : 8,\n",
       "   \"n\" : 3,\n",
       "   \"n_out\" : 3,\n",
       "   \"nu_perp\" : 0.0050000000000000001,\n",
       "   \"posX\" : 0.5,\n",
       "   \"posY\" : 0.5,\n",
       "   \"rows\" : 1,\n",
       "   \"sigma\" : 10,\n",
       "   \"stages\" : 3,\n",
       "   \"width\" : 1000\n",
       "}\n",
       "\n",
       "    dimensions(sizes): x(180), y(180), time(9), energy_time(81)\n",
       "    variables(dimensions): float64 x(x), float64 y(y), float64 time(time), float64 electrons(time,y,x), float64 ions(time,y,x), float64 potential(time,y,x), float64 vorticity(time,y,x), float64 energy_time(energy_time), float64 mass(energy_time), float64 mass_diss(energy_time), float64 entropy(energy_time), float64 entropy_diss(energy_time), float64 kinetic(energy_time), float64 kinetic_diss(energy_time), float64 curvature(energy_time), float64 curvature_diss(energy_time)\n",
       "    groups: "
      ]
     },
     "execution_count": 3,
     "metadata": {},
     "output_type": "execute_result"
    }
   ],
   "source": [
    "File_name = '../FELTOR-model/output.nc'\n",
    "Data = Dataset(File_name)\n",
    "\n",
    "\n",
    "# plt.imshow(nc['Temp'][1,:,0,:])\n",
    "# plt.show()\n",
    "feltor_input = json.loads(Data.inputfile)\n",
    "\n",
    "Data"
   ]
  },
  {
   "cell_type": "code",
   "execution_count": 4,
   "metadata": {},
   "outputs": [
    {
     "data": {
      "image/png": "[encoded data removed]",
      "text/plain": [
       "<Figure size 432x288 with 1 Axes>"
      ]
     },
     "metadata": {
      "needs_background": "light"
     },
     "output_type": "display_data"
    }
   ],
   "source": [
    "# print(nc['ions'][1, :, :])\n",
    "\n",
    "imshow(Data['vorticity'][1, :, :]);\n",
    "show()"
   ]
  },
  {
   "cell_type": "markdown",
   "metadata": {},
   "source": [
    "## Center of Mass"
   ]
  },
  {
   "cell_type": "code",
   "execution_count": 5,
   "metadata": {},
   "outputs": [],
   "source": [
    "from numpy import tile, arange, array, copy"
   ]
  },
  {
   "cell_type": "code",
   "execution_count": null,
   "metadata": {},
   "outputs": [],
   "source": []
  },
  {
   "cell_type": "code",
   "execution_count": 6,
   "metadata": {},
   "outputs": [],
   "source": [
    "x    = array(Data['x'][:])\n",
    "Nx   = len(x)\n",
    "\n",
    "y    = array(Data['y'][:])\n",
    "Ny   = len(y)\n",
    "particles = array(Data['ions'][:])\n",
    "\n",
    "\n",
    "def CM(x, y, n):\n",
    "    \n",
    "    x_vec, y_vec = copy(x), copy(y)\n",
    "    \n",
    "    Nx, Ny = len(x_vec), len(y_vec)\n",
    "    \n",
    "    X_mat = tile(x_vec.reshape(Nx, 1), Ny)\n",
    "    Y_mat = tile(y_vec.reshape(Ny, 1), Nx).transpose()\n",
    "        \n",
    "    X_CM, Y_CM   = np.sum(X_mat * n, axis = (1,2)), np.sum(Y_mat * n, axis = (1,2))\n",
    "    n_total = np.sum(n, axis = (1,2))\n",
    "    \n",
    "    return X_CM / n_total, Y_CM / n_total\n",
    "\n",
    "X_CM, Y_CM = CM(x, y, particles)\n"
   ]
  },
  {
   "cell_type": "markdown",
   "metadata": {},
   "source": [
    "## Integrate"
   ]
  },
  {
   "cell_type": "code",
   "execution_count": 7,
   "metadata": {},
   "outputs": [],
   "source": [
    "from scipy.integrate   import simps"
   ]
  },
  {
   "cell_type": "code",
   "execution_count": 19,
   "metadata": {},
   "outputs": [
    {
     "name": "stdout",
     "output_type": "stream",
     "text": [
      "[314.15926536 314.15926536 314.15926536 314.15926536 314.15926536\n",
      " 314.15926536 314.15926536 314.15926536 314.15926536 314.15926536\n",
      " 314.15926536 314.15926535 314.15926535 314.15926535 314.15926535\n",
      " 314.15926535 314.15926535 314.15926534 314.15926534 314.15926534\n",
      " 314.15926533 314.15926533 314.15926533 314.15926532 314.15926532\n",
      " 314.15926531 314.1592653  314.1592653  314.15926529 314.15926528\n",
      " 314.15926527 314.15926527 314.15926526 314.15926525 314.15926524\n",
      " 314.15926523 314.15926521 314.1592652  314.15926519 314.15926517\n",
      " 314.15926516 314.15926514 314.15926513 314.15926511 314.15926509\n",
      " 314.15926508 314.15926506 314.15926504 314.15926501 314.15926499\n",
      " 314.15926497 314.15926495 314.15926492 314.1592649  314.15926487\n",
      " 314.15926484 314.15926481 314.15926478 314.15926475 314.15926472\n",
      " 314.15926469 314.15926465 314.15926462 314.15926458 314.15926455\n",
      " 314.15926451 314.15926447 314.15926443 314.15926438 314.15926434\n",
      " 314.1592643  314.15926425 314.1592642  314.15926415 314.1592641\n",
      " 314.15926405 314.159264   314.15926394 314.15926389 314.15926383\n",
      " 314.15926377]\n",
      "[314.15967677 314.15967412 314.15966925 314.15966215 314.15965281\n",
      " 314.15964119 314.15962728 314.15961106 314.15959252]\n"
     ]
    }
   ],
   "source": [
    "print(Anal.Data['mass'][:])\n",
    "print(Anal.integrate('ions'))"
   ]
  },
  {
   "cell_type": "code",
   "execution_count": 12,
   "metadata": {},
   "outputs": [
    {
     "data": {
      "text/plain": [
       "array([-199.24865556,    1.29099445,    1.29099445,    0.75134444,\n",
       "          1.29099445,    1.29099445,    0.75134444,    1.29099445,\n",
       "          1.29099445,    0.75134444,    1.29099445,    1.29099445,\n",
       "          0.75134444,    1.29099445,    1.29099445,    0.75134444,\n",
       "          1.29099445,    1.29099445,    0.75134444,    1.29099445,\n",
       "          1.29099445,    0.75134444,    1.29099445,    1.29099445,\n",
       "          0.75134444,    1.29099445,    1.29099445,    0.75134444,\n",
       "          1.29099445,    1.29099445,    0.75134444,    1.29099445,\n",
       "          1.29099445,    0.75134444,    1.29099445,    1.29099445,\n",
       "          0.75134444,    1.29099445,    1.29099445,    0.75134444,\n",
       "          1.29099445,    1.29099445,    0.75134444,    1.29099445,\n",
       "          1.29099445,    0.75134444,    1.29099445,    1.29099445,\n",
       "          0.75134444,    1.29099445,    1.29099445,    0.75134444,\n",
       "          1.29099445,    1.29099445,    0.75134444,    1.29099445,\n",
       "          1.29099445,    0.75134444,    1.29099445,    1.29099445,\n",
       "          0.75134444,    1.29099445,    1.29099445,    0.75134444,\n",
       "          1.29099445,    1.29099445,    0.75134444,    1.29099445,\n",
       "          1.29099445,    0.75134444,    1.29099445,    1.29099445,\n",
       "          0.75134444,    1.29099445,    1.29099445,    0.75134444,\n",
       "          1.29099445,    1.29099445,    0.75134444,    1.29099445,\n",
       "          1.29099445,    0.75134444,    1.29099445,    1.29099445,\n",
       "          0.75134444,    1.29099445,    1.29099445,    0.75134444,\n",
       "          1.29099445,    1.29099445,    0.75134444,    1.29099445,\n",
       "          1.29099445,    0.75134444,    1.29099445,    1.29099445,\n",
       "          0.75134444,    1.29099445,    1.29099445,    0.75134444,\n",
       "          1.29099445,    1.29099445,    0.75134444,    1.29099445,\n",
       "          1.29099445,    0.75134444,    1.29099445,    1.29099445,\n",
       "          0.75134444,    1.29099445,    1.29099445,    0.75134444,\n",
       "          1.29099445,    1.29099445,    0.75134444,    1.29099445,\n",
       "          1.29099445,    0.75134444,    1.29099445,    1.29099445,\n",
       "          0.75134444,    1.29099445,    1.29099445,    0.75134444,\n",
       "          1.29099445,    1.29099445,    0.75134444,    1.29099445,\n",
       "          1.29099445,    0.75134444,    1.29099445,    1.29099445,\n",
       "          0.75134444,    1.29099445,    1.29099445,    0.75134444,\n",
       "          1.29099445,    1.29099445,    0.75134444,    1.29099445,\n",
       "          1.29099445,    0.75134444,    1.29099445,    1.29099445,\n",
       "          0.75134444,    1.29099445,    1.29099445,    0.75134444,\n",
       "          1.29099445,    1.29099445,    0.75134444,    1.29099445,\n",
       "          1.29099445,    0.75134444,    1.29099445,    1.29099445,\n",
       "          0.75134444,    1.29099445,    1.29099445,    0.75134444,\n",
       "          1.29099445,    1.29099445,    0.75134444,    1.29099445,\n",
       "          1.29099445,    0.75134444,    1.29099445,    1.29099445,\n",
       "          0.75134444,    1.29099445,    1.29099445,    0.75134444,\n",
       "          1.29099445,    1.29099445,    0.75134444,    1.29099445,\n",
       "          1.29099445,    0.75134444,    1.29099445,    1.29099445])"
      ]
     },
     "execution_count": 12,
     "metadata": {},
     "output_type": "execute_result"
    }
   ],
   "source": [
    "x - np.roll(x, 1)"
   ]
  },
  {
   "cell_type": "code",
   "execution_count": 9,
   "metadata": {},
   "outputs": [
    {
     "name": "stdout",
     "output_type": "stream",
     "text": [
      "[314.15967677 314.15967412 314.15966925 314.15966215 314.15965281\n",
      " 314.15964119 314.15962728 314.15961106 314.15959252]\n"
     ]
    }
   ],
   "source": [
    "\n",
    "x    = array(Data['x'][:])\n",
    "Nx   = len(x)\n",
    "\n",
    "y    = array(Data['y'][:])\n",
    "Ny   = len(y)\n",
    "mass = array(Data['ions'][:])\n",
    "\n",
    "Integral = simps(mass, x, axis = 1)\n",
    "Integral = simps(Integral, y, axis = 1)\n",
    "\n",
    "print(Integral)"
   ]
  },
  {
   "cell_type": "code",
   "execution_count": 10,
   "metadata": {},
   "outputs": [
    {
     "data": {
      "text/plain": [
       "3"
      ]
     },
     "execution_count": 10,
     "metadata": {},
     "output_type": "execute_result"
    }
   ],
   "source": [
    "np.ndim(mass)"
   ]
  }
 ],
 "metadata": {
  "kernelspec": {
   "display_name": "Python 3",
   "language": "python",
   "name": "python3"
  },
  "language_info": {
   "codemirror_mode": {
    "name": "ipython",
    "version": 3
   },
   "file_extension": ".py",
   "mimetype": "text/x-python",
   "name": "python",
   "nbconvert_exporter": "python",
   "pygments_lexer": "ipython3",
   "version": "3.7.5"
  }
 },
 "nbformat": 4,
 "nbformat_minor": 4
}
