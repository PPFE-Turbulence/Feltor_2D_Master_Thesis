{
 "cells": [
  {
   "cell_type": "code",
   "execution_count": 1,
   "metadata": {},
   "outputs": [],
   "source": [
    "import json\n",
    "import os\n",
    "import numpy as np\n",
    "\n",
    "from subprocess      import call\n",
    "from IPython.display import clear_output\n",
    "\n",
    "from FELTOR_class    import FELTOR_Cpp"
   ]
  },
  {
   "cell_type": "markdown",
   "metadata": {},
   "source": [
    "# Running FELTOR From Jupyter notebook with FELTOR_class\n",
    "\n",
    "The FELTOR program is an efficient tool that allows us to run MHD simulations to study turbulence in Nuclear Fusion reactors.\n",
    "\n",
    "To do this we use the program `convection_hpc`  allocated at `../FELTOR/`. This program needs and import file `input.json`, an example of it can be seen in the variable `data` and an empty output `output.nc`. \n",
    "\n",
    "This model, can be run two different models: __interchange model__ (IC) and __Hasegawa Wakatani model__ (HW) with and without average. To select one or the other model we need to set the variable `model` as `\"HW\"` or `\"IC\"` (effectively only the name `\"HW\"` makes a difference).\n",
    "\n",
    "The first model is represented by the equations:\n",
    "\n",
    "\\begin{align}\n",
    " \\nabla^2 \\phi =  \\omega, \\quad \\\\\n",
    " \\frac{\\partial n}{\\partial t}     =\n",
    "    \\{ n, \\phi\\}\n",
    "  + \\kappa \\frac{\\partial \\phi}{\\partial y}\n",
    "  + \\nu \\nabla^2 n  \\\\\n",
    "  \\frac{\\partial \\omega}{\\partial t} =\n",
    "  \\{ \\omega, \\phi\\}\n",
    "  - \\kappa\\frac{\\partial n}{\\partial y} +\\nu\\nabla^2\\omega\n",
    "\\end{align}\n",
    "\n",
    "\n",
    "For the Hasegawa - Wakatani model we have the following equations\n",
    "\n",
    "\\begin{align}\n",
    " \\nabla^2 \\phi =  \\omega, \\quad \\\\\n",
    " \\frac{\\partial n}{\\partial t}     = - g \\frac{\\partial \\phi}{\\partial y} + \\alpha (\\tilde{\\phi} - \\tilde{n})\n",
    " + \\{n, \\phi\\} + D \\nabla^2 n \\\\\n",
    "  \\frac{\\partial \\omega}{\\partial t} = \\alpha ( \\tilde{\\phi} - \\tilde{n}) + \\{ \\omega, \\phi\\}\n",
    "  + \\mu\\nabla^2\\omega\n",
    "\\end{align}\n",
    "\n",
    "The variables $\\tilde{\\phi}$ and $\\tilde{n}$ represents low frequency fluctuations. Their relation with $\\phi$ and $n$ is given by\n",
    "\n",
    "\\begin{align}\n",
    "\\phi = \\tilde{\\phi} + <\\phi> \\\\\n",
    "n = \\tilde{n} + <n>\n",
    "\\end{align}\n",
    "\n",
    "where $<...>$ represents the averagive in the poloidal direction. For this reason, we can write the HW model equations as\n",
    "\n",
    "\\begin{align}\n",
    " \\nabla^2 \\phi =  \\omega, \\quad \\\\\n",
    " \\frac{\\partial n}{\\partial t}     = - g \\frac{\\partial \\phi}{\\partial y} + \\alpha [(\\phi - <\\phi>) - (n - <n>)]\n",
    " + \\{n, \\phi\\} + D \\nabla^2 n \\\\\n",
    "  \\frac{\\partial \\omega}{\\partial t} = \\alpha [(\\phi - <\\phi>) - (n - <n>)]  + \\{ \\omega, \\phi\\}\n",
    "  + \\mu\\nabla^2\\omega\n",
    "\\end{align}\n",
    "    \n",
    "    \n",
    "In this case, we can run the model with and without the averages, which allows us to play with two different approximations. For that we need to set the variable `make_average` as true or flase (1 or 0)."
   ]
  },
  {
   "cell_type": "code",
   "execution_count": 2,
   "metadata": {},
   "outputs": [],
   "source": [
    "data = {\n",
    "        \"model\" : \"HW\",\n",
    "        \"modified\": 1,\n",
    "        \"n\" :  3,\n",
    "        \"Nx\" : 120,\n",
    "        \"Ny\" : 120,\n",
    "        \"dt\" : 0.01,\n",
    "        \"n_out\"  : 3,\n",
    "        \"Nx_out\" : 60,\n",
    "        \"Ny_out\" : 60,\n",
    "        \"itstp\"  : 10,\n",
    "        \"maxout\" : 80,\n",
    "        \"eps_pol\"   : 1e-6,\n",
    "        \"eps_time\"  : 1e-10,\n",
    "        \"stages\" : 3,\n",
    "        \"curvature\"  : 0.015,\n",
    "        \"dens_prof\"  : -0.015,\n",
    "        \"adiabatic\"  : 0.0001,\n",
    "        \"nu_perp\"  : 5e-3,\n",
    "        \"amplitude\"  : 0.5,\n",
    "        \"sigma\"  : 10,\n",
    "        \"posX\"  : 0.5,\n",
    "        \"posY\"  : 0.5,\n",
    "        \"lx\"  : 200,\n",
    "        \"ly\"  : 200,\n",
    "        \"bc_x\"  : \"DIR\",\n",
    "        \"bc_y\"  : \"PER\",\n",
    "        \"rows\": 1,\n",
    "        \"cols\": 2,\n",
    "        \"width\": 1000,\n",
    "        \"height\": 500\n",
    "}\n",
    "\n",
    "PATH_FELTOR = '../FELTOR/'\n",
    "FELTOR_file = 'convection_hpc'"
   ]
  },
  {
   "cell_type": "markdown",
   "metadata": {},
   "source": [
    "To run this simulations a simple class has been created in the model `FELTOR_class.py`, `FELTOR_Cpp` which is capable to create and modify the input file and run the code easily. The model has an example initial conditions, which would run a HW model with average. Let's make some examples.\n",
    "\n",
    "Let's run the program for an interchange model:"
   ]
  },
  {
   "cell_type": "code",
   "execution_count": 3,
   "metadata": {
    "scrolled": true
   },
   "source": [
    "FELTOR_IC = FELTOR_Cpp(PATH_FELTOR, FELTOR_file, 'input_IC.json',\n",
    "                    'output_IC.nc', data = None)\n",
    "\n",
    "FELTOR_IC.data['model'] = 'IC'\n",
    "FELTOR_IC.save_input()\n",
    "!{FELTOR_IC.run()}"
   ]
  },
  {
   "cell_type": "markdown",
   "metadata": {},
   "source": [
    "For a HW model without average"
   ]
  },
  {
   "cell_type": "code",
   "execution_count": 4,
   "metadata": {
    "scrolled": true
   },
   "source": [
    "FELTOR_HW_0 = FELTOR_Cpp(PATH_FELTOR, FELTOR_file, 'input_HW_0.json',\n",
    "                    'output_HW_0.nc', data = None)\n",
    "\n",
    "FELTOR_HW_0.data['modified'] = 0\n",
    "FELTOR_HW_0.data['model'] = \"HW\"\n",
    "FELTOR_HW_0.save_input()\n",
    "!{FELTOR_HW_0.run()}"
   ]
  },
  {
   "cell_type": "markdown",
   "metadata": {},
   "source": [
    "For a HW model with average"
   ]
  },
  {
   "cell_type": "code",
   "execution_count": null,
   "metadata": {
    "scrolled": true
   },
   "source": [
    "FELTOR_HW_1 = FELTOR_Cpp(PATH_FELTOR, FELTOR_file, 'input_HW_1.json',\n",
    "                    'output_HW_1.nc', data = None)\n",
    "\n",
    "FELTOR_HW_1.data['modified'] = 1\n",
    "FELTOR_HW_1.save_input()\n",
    "!{FELTOR_HW_1.run()}"
   ]
  },
  {
   "cell_type": "markdown",
   "metadata": {},
   "source": [
    "This model can be nicely convined with the analysis class `Analysis.Analyse`, which allows us to take the output file and analyse the solution."
   ]
  },
  {
   "cell_type": "code",
   "execution_count": null,
   "metadata": {},
   "outputs": [],
   "source": [
    "import sys\n",
    "sys.path.insert(1, '../2D_FELTOR_Analysis/')\n",
    "\n",
    "from Analysis import Analyse\n",
    "\n",
    "import numpy as np\n",
    "import matplotlib.pyplot as plt\n",
    "from matplotlib.pyplot        import axis, savefig, pcolormesh, imshow, show, figure, subplot, title, plot, colorbar"
   ]
  },
  {
   "cell_type": "code",
   "execution_count": null,
   "metadata": {},
   "outputs": [],
   "source": [
    "File_name = 'output_IC.nc'\n",
    "Analitics = Analyse(File_name)\n",
    "Mass = Analitics.integrate('ions')\n",
    "Potential = Analitics.integrate('potential')"
   ]
  },
  {
   "cell_type": "code",
   "execution_count": null,
   "metadata": {},
   "outputs": [],
   "source": [
    "ftsz_title = 17\n",
    "ftsz_label = 15\n",
    "\n",
    "point = 10\n",
    "X, Y = np.meshgrid(Analitics.x, Analitics.y)\n",
    "\n",
    "figure(figsize = (24, 16))\n",
    "\n",
    "subplot(2, 3, 1);\n",
    "plot(Analitics.X_CM, Analitics.Y_CM, 'o'); title('Center of mass', fontsize = ftsz_title)\n",
    "plot(Analitics.X_CM[point], Analitics.Y_CM[point], 'o', color = 'red')\n",
    "plt.xlabel('CM X axis', fontsize = ftsz_label)\n",
    "plt.ylabel('CM Y axis', fontsize = ftsz_label)\n",
    "\n",
    "\n",
    "subplot(2, 3, 2); \n",
    "plot(Analitics.time, (Mass[0] - Mass) / Mass[0]); title('Error in total Mass', fontsize = ftsz_title)\n",
    "plot(Analitics.time[point], (Mass[0] - Mass[point]) / Mass[0], 'o', color = 'red')\n",
    "plt.xlabel('Time', fontsize = ftsz_label)\n",
    "plt.ylabel('Error in total Mass', fontsize = ftsz_label)\n",
    "plt.xscale('log')\n",
    "\n",
    "\n",
    "subplot(2, 3, 3); \n",
    "plot(Analitics.V_CM_x, Analitics.V_CM_y, 'o'); title('Velocity of the CM', fontsize = ftsz_title)\n",
    "plot(Analitics.V_CM_x[point], Analitics.V_CM_y[point], 'o', color = 'red')\n",
    "plt.xlabel('V_CM X axis', fontsize = ftsz_label)\n",
    "plt.ylabel('V_CM Y axis', fontsize = ftsz_label)\n",
    "\n",
    "\n",
    "subplot(2, 3, 4)\n",
    "plot(Analitics.time, Potential); title('Total Potential', fontsize = ftsz_title)\n",
    "plot(Analitics.time[point], Potential[point], 'o', color = 'red')\n",
    "plt.xlabel('Time', fontsize = ftsz_label)\n",
    "plt.ylabel('Total Potential', fontsize = ftsz_label)\n",
    "plt.xscale('log')\n",
    "\n",
    "\n",
    "subplot(2, 3, 5)\n",
    "pcolormesh(Analitics.x, Analitics.y, Analitics.ions[point], cmap = 'plasma', shading = 'gouraud'); title('Ions density', fontsize = ftsz_title)\n",
    "\n",
    "subplot(2, 3, 6)\n",
    "pcolormesh(Analitics.x, Analitics.y, Analitics.Data['vorticity'][point], cmap = 'plasma', shading = 'gouraud'); title('Vorticity', fontsize = ftsz_title)\n",
    "\n",
    "show()"
   ]
  }
 ],
 "metadata": {
  "kernelspec": {
   "display_name": "Python 3",
   "language": "python",
   "name": "python3"
  },
  "language_info": {
   "codemirror_mode": {
    "name": "ipython",
    "version": 3
   },
   "file_extension": ".py",
   "mimetype": "text/x-python",
   "name": "python",
   "nbconvert_exporter": "python",
   "pygments_lexer": "ipython3",
   "version": "3.7.5"
  }
 },
 "nbformat": 4,
 "nbformat_minor": 4
}
